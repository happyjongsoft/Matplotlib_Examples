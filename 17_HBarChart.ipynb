{
 "cells": [
  {
   "cell_type": "code",
   "execution_count": 1,
   "id": "f383bd27-a371-4d6d-810b-19242c9fa7bb",
   "metadata": {},
   "outputs": [
    {
     "data": {
      "image/png": "[encoded data removed]",
      "text/plain": [
       "<Figure size 432x288 with 1 Axes>"
      ]
     },
     "metadata": {
      "needs_background": "light"
     },
     "output_type": "display_data"
    }
   ],
   "source": [
    "import matplotlib.pyplot as plt\n",
    "import numpy as np\n",
    "\n",
    "y = np.arange(3)\n",
    "years = ['2018', '2019', '2020']\n",
    "values = [100, 400, 900]\n",
    "\n",
    "plt.barh(y, values)\n",
    "plt.yticks(y, years)\n",
    "\n",
    "plt.show()"
   ]
  },
  {
   "cell_type": "code",
   "execution_count": 2,
   "id": "e0a01c90-e540-471b-9d32-455b4e86ec92",
   "metadata": {},
   "outputs": [
    {
     "data": {
      "image/png": "[encoded data removed]",
      "text/plain": [
       "<Figure size 432x288 with 1 Axes>"
      ]
     },
     "metadata": {
      "needs_background": "light"
     },
     "output_type": "display_data"
    }
   ],
   "source": [
    "import matplotlib.pyplot as plt\n",
    "import numpy as np\n",
    "\n",
    "y = np.arange(3)\n",
    "years = ['2018', '2019', '2020']\n",
    "values = [100, 400, 900]\n",
    "\n",
    "plt.barh(y, values, color='y')\n",
    "# plt.barh(y, values, color='dodgerblue')\n",
    "# plt.barh(y, values, color='C2')\n",
    "# plt.barh(y, values, color='#e35f62')\n",
    "plt.yticks(y, years)\n",
    "\n",
    "plt.show()"
   ]
  },
  {
   "cell_type": "code",
   "execution_count": 3,
   "id": "75b8f3ba-4e97-4554-bd62-900c55f71fc3",
   "metadata": {},
   "outputs": [
    {
     "data": {
      "image/png": "[encoded data removed]",
      "text/plain": [
       "<Figure size 432x288 with 1 Axes>"
      ]
     },
     "metadata": {
      "needs_background": "light"
     },
     "output_type": "display_data"
    }
   ],
   "source": [
    "import matplotlib.pyplot as plt\n",
    "import numpy as np\n",
    "\n",
    "y = np.arange(3)\n",
    "years = ['2018', '2019', '2020']\n",
    "values = [100, 400, 900]\n",
    "colors = ['y', 'dodgerblue', 'C2']\n",
    "\n",
    "plt.barh(y, values, color=colors)\n",
    "plt.yticks(y, years)\n",
    "\n",
    "plt.show()"
   ]
  },
  {
   "cell_type": "code",
   "execution_count": 4,
   "id": "f8c3e14c-63fb-47c7-9a33-a62bd49455ee",
   "metadata": {},
   "outputs": [
    {
     "data": {
      "image/png": "[encoded data removed]",
      "text/plain": [
       "<Figure size 432x288 with 1 Axes>"
      ]
     },
     "metadata": {
      "needs_background": "light"
     },
     "output_type": "display_data"
    }
   ],
   "source": [
    "import matplotlib.pyplot as plt\n",
    "import numpy as np\n",
    "\n",
    "y = np.arange(3)\n",
    "years = ['2018', '2019', '2020']\n",
    "values = [100, 400, 900]\n",
    "\n",
    "plt.barh(y, values, height=0.4)\n",
    "# plt.barh(y, values, height=0.6)\n",
    "# plt.barh(y, values, height=0.8)\n",
    "# plt.barh(y, values, height=1.0)\n",
    "plt.yticks(y, years)\n",
    "\n",
    "plt.show()"
   ]
  },
  {
   "cell_type": "code",
   "execution_count": 5,
   "id": "9967f6df-0456-4bcd-b64b-5be732e1fa71",
   "metadata": {},
   "outputs": [
    {
     "data": {
      "image/png": "[encoded data removed]",
      "text/plain": [
       "<Figure size 432x288 with 1 Axes>"
      ]
     },
     "metadata": {
      "needs_background": "light"
     },
     "output_type": "display_data"
    }
   ],
   "source": [
    "import matplotlib.pyplot as plt\n",
    "import numpy as np\n",
    "\n",
    "y = np.arange(3)\n",
    "years = ['2018', '2019', '2020']\n",
    "values = [100, 400, 900]\n",
    "\n",
    "plt.barh(y, values, align='edge', edgecolor='#eee',\n",
    "         linewidth=5, tick_label=years)\n",
    "\n",
    "plt.show()"
   ]
  }
 ],
 "metadata": {
  "kernelspec": {
   "display_name": "Python 3 (ipykernel)",
   "language": "python",
   "name": "python3"
  },
  "language_info": {
   "codemirror_mode": {
    "name": "ipython",
    "version": 3
   },
   "file_extension": ".py",
   "mimetype": "text/x-python",
   "name": "python",
   "nbconvert_exporter": "python",
   "pygments_lexer": "ipython3",
   "version": "3.9.12"
  }
 },
 "nbformat": 4,
 "nbformat_minor": 5
}
